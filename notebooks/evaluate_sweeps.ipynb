{
 "cells": [
  {
   "cell_type": "code",
   "execution_count": 1,
   "metadata": {},
   "outputs": [],
   "source": [
    "from acousticnn.main_dir import main_dir\n",
    "import torch, os, json\n",
    "import seaborn as sns\n",
    "os.chdir(main_dir)\n",
    "\n",
    "%reload_ext autoreload\n",
    "%autoreload 2\n",
    "\n",
    "import numpy as np\n",
    "from acousticnn.plate.dataset import get_dataloader\n",
    "from acousticnn.model import model_factory\n",
    "from acousticnn.utils.logger import print_log\n",
    "from acousticnn.utils.argparser import get_args, get_config\n",
    "from torchinfo import summary\n",
    "import seaborn as sns\n",
    "\n",
    "import matplotlib.pyplot as plt\n",
    "from acousticnn.plate.train_fsm import evaluate\n",
    "\n",
    "np.set_printoptions(formatter={'float': lambda x: \"{0:0.3f}\".format(x)})\n",
    "from acousticnn.plate.train_fsm import extract_mean_std, get_mean_from_field_solution"
   ]
  },
  {
   "cell_type": "code",
   "execution_count": 2,
   "metadata": {},
   "outputs": [],
   "source": [
    "plt.rcParams['axes.labelsize'] = 5\n",
    "plt.rcParams['axes.titlesize'] = 5\n",
    "plt.rcParams['axes.titlesize'] = 5\n",
    "plt.rcParams.update({'font.size': 5})\n",
    "\n",
    "figsize = (6.75/4, 1.35)\n",
    "figsize_large = (6.75/3, 1.35)\n",
    "plt.rcParams[\"axes.prop_cycle\"] = plt.cycler(\"color\", plt.cm.Set2(np.linspace(0,1,2)))\n",
    "plt.rcParams['text.usetex'] = False\n",
    "save_dir = \"plots/results/\""
   ]
  },
  {
   "cell_type": "markdown",
   "metadata": {},
   "source": [
    "## isoconture evals"
   ]
  },
  {
   "cell_type": "code",
   "execution_count": 3,
   "metadata": {},
   "outputs": [],
   "source": [
    "results_150k = json.load(open(os.path.join(main_dir, 'results/results_150k.json')))\n",
    "results_baseline = json.load(open(os.path.join(main_dir, 'results/results_baseline.json')))\n",
    "results_best = json.load(open(os.path.join(main_dir, 'results/results_best.json')))"
   ]
  },
  {
   "cell_type": "code",
   "execution_count": null,
   "metadata": {},
   "outputs": [],
   "source": [
    "for key in results_150k[0].keys():\n",
    "    if key == 'n_freq':\n",
    "        continue\n",
    "    n_freqs = [result['n_freq'] for i, result in enumerate(results_150k)]\n",
    "    results = [result[key] for i, result in enumerate(results_150k)]\n",
    "    n_freqs, results = zip(*sorted(zip(n_freqs, results)))\n",
    "    lossname = 'MSE'\n",
    "    # Plotting\n",
    "\n",
    "    plt.figure(figsize=figsize)\n",
    "    plt.plot(n_freqs, results, marker='o', lw=0.5, ms=2, label=f'150k FEM evals')\n",
    "    plt.xscale('log', base=2)\n",
    "    plt.xticks(n_freqs, labels=[str(freq) for freq in n_freqs])\n",
    "\n",
    "\n",
    "    plt.scatter(300, y=results_baseline[key], color='r', marker='x', s=17, label=f'1.5 Mio FEM evals ')\n",
    "    plt.scatter(15, y=results_best[key], color='g', marker='*', s=17, label=f'750k FEM evals')\n",
    "\n",
    "    plt.xlabel('Frequencies per plate geometry')\n",
    "    plt.ylabel(lossname)\n",
    "    plt.ylim(bottom=0)\n",
    "    #plt.title(f'{lossname} vs. # frequencies / geometry')\n",
    "    plt.grid(True, lw=0.2)\n",
    "    plt.legend(fontsize=4.5)\n",
    "    sns.despine(offset=5)\n",
    "    plt.tight_layout()\n",
    "    print(key)\n",
    "    if key == 'loss (test/val)':\n",
    "        pass\n",
    "        plt.savefig(os.path.join(save_dir, 'data_efficiency.svg'), transparent=True)\n",
    "    plt.show()"
   ]
  },
  {
   "cell_type": "markdown",
   "metadata": {},
   "source": [
    "# compute results"
   ]
  },
  {
   "cell_type": "code",
   "execution_count": null,
   "metadata": {},
   "outputs": [],
   "source": [
    "args = get_args(['--model_cfg', 'fqo_unet.yaml', '--config', 'cfg/V5000_no_sampling.yaml', '--dir', 'debug', '--batch_size', '2'])\n",
    "logger = None\n",
    "config = get_config(args.config)\n",
    "model_cfg = get_config(args.model_cfg)\n",
    "trainloader, valloader, testloader, _, _, _ = get_dataloader(args, config, logger)\n",
    "\n",
    "net = model_factory(**model_cfg, conditional=config.conditional, rmfreqs=hasattr(config, \"rmfreqs\"), len_conditional=len(config.mean_conditional_param) if config.conditional else None).to(args.device)\n",
    "\n",
    "batch = next(iter(trainloader))\n",
    "batch = {k: v.to(args.device) for k, v in batch.items()}\n",
    "summary(net, input_data=(batch[\"bead_patterns\"], batch[\"phy_para\"], batch[\"frequencies\"]))\n",
    "\n",
    "def evaluate_checkpoint(path):\n",
    "    data = torch.load(os.path.join(path, \"checkpoint_best\"))\n",
    "    new_state_dict = {}\n",
    "    for key in data[\"model_state_dict\"]:\n",
    "        new_key = key.replace(\"_orig_mod.\", \"\")  # Adjust the key as needed\n",
    "        new_state_dict[new_key] = data[\"model_state_dict\"][key]\n",
    "\n",
    "    net.load_state_dict(new_state_dict)\n",
    "    print('evaluate:', path)\n",
    "    results = evaluate(args, config, net, testloader, logger=logger, report_peak_error=True, epoch=None, report_wasserstein=True)\n",
    "    a, b, c, save_rmean = results[\"loss (test/val)\"], results[\"wasserstein\"], results[\"frequency_distance\"], results[\"save_rmean\"]\n",
    "    print_log(f\"{a:4.2f} & {b:4.2f} & {save_rmean:3.2f} & {c:3.1f}\", logger=logger)\n",
    "    return results\n",
    "\n",
    "results = evaluate_checkpoint(\"path/to/checkpoint\")\n",
    "\n",
    "keys = ['loss (test/val)', 'wasserstein', 'save_rmean']\n",
    "results = {key: results[key].item() for key in keys}\n",
    "\n",
    "# Save to a JSON file\n",
    "with open('results/results.json', 'w') as f:\n",
    "    json.dump(results, f, indent=4)"
   ]
  }
 ],
 "metadata": {
  "kernelspec": {
   "display_name": "Python 3",
   "language": "python",
   "name": "python3"
  },
  "language_info": {
   "codemirror_mode": {
    "name": "ipython",
    "version": 3
   },
   "file_extension": ".py",
   "mimetype": "text/x-python",
   "name": "python",
   "nbconvert_exporter": "python",
   "pygments_lexer": "ipython3",
   "version": "3.10.14"
  }
 },
 "nbformat": 4,
 "nbformat_minor": 2
}
