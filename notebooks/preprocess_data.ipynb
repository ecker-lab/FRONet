{
 "cells": [
  {
   "cell_type": "code",
   "execution_count": null,
   "metadata": {},
   "outputs": [],
   "source": [
    "import numpy as np\n",
    "import os\n",
    "import h5py\n",
    "import hdf5plugin\n",
    "compression = hdf5plugin.Blosc(cname='lz4', clevel=9, shuffle=hdf5plugin.Blosc.SHUFFLE)\n",
    "from acousticnn.utils.preprocess_data import *\n"
   ]
  },
  {
   "cell_type": "markdown",
   "metadata": {},
   "source": [
    "## Reduce Resolution and save to train_test_split"
   ]
  },
  {
   "cell_type": "code",
   "execution_count": null,
   "metadata": {},
   "outputs": [],
   "source": [
    "path = \"path/to/file.h5\"\n",
    "elements = load_original_data(path)\n",
    "print([element.shape for element in elements])\n",
    "z_abs_velocity, z_vel_mean_sq, bead_patterns, sample_mat = elements\n",
    "z_abs_velocity = reduce_resolution(z_abs_velocity)\n"
   ]
  },
  {
   "cell_type": "code",
   "execution_count": null,
   "metadata": {},
   "outputs": [],
   "source": [
    "num_start, num_end = 0, 2000\n",
    "save_path = \"save_path/to/train_file_1.h5\"\n",
    "save_z_abs_velocity, save_z_vel_mean_sq, save_bead_patterns, save_sample_mat = \\\n",
    "    z_abs_velocity[num_start:num_end], z_vel_mean_sq[num_start:num_end], bead_patterns[num_start:num_end], sample_mat[num_start:num_end]\n",
    "save_data(save_path, save_z_abs_velocity, save_z_vel_mean_sq, save_bead_patterns, save_sample_mat)\n",
    "add_moments_to_hdf5(save_path)\n",
    "eval_file(save_path)"
   ]
  },
  {
   "cell_type": "code",
   "execution_count": null,
   "metadata": {},
   "outputs": [],
   "source": [
    "num_start, num_end = 2000, 5000\n",
    "save_path = \"save_path/to/train_file_2.h5\"\n",
    "save_z_abs_velocity, save_z_vel_mean_sq, save_bead_patterns, save_sample_mat = \\\n",
    "    z_abs_velocity[num_start:num_end], z_vel_mean_sq[num_start:num_end], bead_patterns[num_start:num_end], sample_mat[num_start:num_end]\n",
    "save_data(save_path, save_z_abs_velocity, save_z_vel_mean_sq, save_bead_patterns, save_sample_mat)\n",
    "add_moments_to_hdf5(save_path)\n",
    "eval_file(save_path)"
   ]
  },
  {
   "cell_type": "code",
   "execution_count": null,
   "metadata": {},
   "outputs": [],
   "source": [
    "num_start, num_end = 5000, 6000\n",
    "save_path = \"save_path/to/test_file.h5\"\n",
    "save_z_abs_velocity, save_z_vel_mean_sq, save_bead_patterns, save_sample_mat = \\\n",
    "    z_abs_velocity[num_start:num_end], z_vel_mean_sq[num_start:num_end], bead_patterns[num_start:num_end], sample_mat[num_start:num_end]\n",
    "save_data(save_path, save_z_abs_velocity, save_z_vel_mean_sq, save_bead_patterns, save_sample_mat)\n",
    "add_moments_to_hdf5(save_path)\n",
    "eval_file(save_path)"
   ]
  }
 ],
 "metadata": {
  "kernelspec": {
   "display_name": "acoustics",
   "language": "python",
   "name": "acoustics"
  },
  "language_info": {
   "codemirror_mode": {
    "name": "ipython",
    "version": 3
   },
   "file_extension": ".py",
   "mimetype": "text/x-python",
   "name": "python",
   "nbconvert_exporter": "python",
   "pygments_lexer": "ipython3",
   "version": "3.11.0"
  },
  "orig_nbformat": 4
 },
 "nbformat": 4,
 "nbformat_minor": 2
}
